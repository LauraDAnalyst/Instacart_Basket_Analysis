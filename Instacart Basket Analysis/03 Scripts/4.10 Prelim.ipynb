{
 "cells": [
  {
   "cell_type": "markdown",
   "id": "b52badab-f8ba-4496-bbf4-f6f32ac3a2a3",
   "metadata": {},
   "source": [
    "01 Import"
   ]
  },
  {
   "cell_type": "code",
   "execution_count": 2,
   "id": "946f13a6-5eb5-4d13-8034-8ad36d21c61b",
   "metadata": {},
   "outputs": [],
   "source": [
    "import pandas as pd\n",
    "import numpy as np\n",
    "import os"
   ]
  },
  {
   "cell_type": "code",
   "execution_count": 3,
   "id": "27f9edcc-b241-4972-bb27-1f2918816605",
   "metadata": {},
   "outputs": [],
   "source": [
    "path = r'/Users/Owner/Documents/CareerFoundry/Data Immersion/Achievement 4/01-07-2024 Instacart Basket Analysis'"
   ]
  },
  {
   "cell_type": "code",
   "execution_count": 4,
   "id": "39ef459f-c50a-4ea8-becb-9a9a019bc9b6",
   "metadata": {},
   "outputs": [],
   "source": [
    "df = pd.read_pickle(os.path.join(path, '02 Data', 'Prepared Data', 'orders_products_all.pkl'))"
   ]
  },
  {
   "cell_type": "code",
   "execution_count": 5,
   "id": "138463c0-867c-4879-acdd-9f0fcb2cb033",
   "metadata": {},
   "outputs": [
    {
     "name": "stdout",
     "output_type": "stream",
     "text": [
      "<class 'pandas.core.frame.DataFrame'>\n",
      "RangeIndex: 32404859 entries, 0 to 32404858\n",
      "Data columns (total 32 columns):\n",
      " #   Column                  Dtype  \n",
      "---  ------                  -----  \n",
      " 0   product_id              int64  \n",
      " 1   product_name            object \n",
      " 2   aisle_id                int64  \n",
      " 3   department_id           int64  \n",
      " 4   prices                  float64\n",
      " 5   order_id                int64  \n",
      " 6   user_id                 int64  \n",
      " 7   eval_set                object \n",
      " 8   order_number            int64  \n",
      " 9   order_dow               int64  \n",
      " 10  order_hour_of_day       int64  \n",
      " 11  days_since_prior_order  float64\n",
      " 12  add_to_cart_order       int64  \n",
      " 13  reordered               int64  \n",
      " 14  Busiest Days            object \n",
      " 15  busiest_period_of_day   object \n",
      " 16  price_range_loc         object \n",
      " 17  max_order               int64  \n",
      " 18  loyalty_flag            object \n",
      " 19  mean_spend              float64\n",
      " 20  spending_flag           object \n",
      " 21  buy_freq                float64\n",
      " 22  frequency_flag          object \n",
      " 23  First Name              object \n",
      " 24  Last Name               object \n",
      " 25  Gender                  object \n",
      " 26  State                   object \n",
      " 27  Age                     int64  \n",
      " 28  Date_joined             object \n",
      " 29  Number_of_dependents    int64  \n",
      " 30  Marital_status          object \n",
      " 31  Income                  int64  \n",
      "dtypes: float64(4), int64(14), object(14)\n",
      "memory usage: 7.7+ GB\n"
     ]
    }
   ],
   "source": [
    "#check output\n",
    "df.info()"
   ]
  },
  {
   "cell_type": "code",
   "execution_count": 6,
   "id": "dbd9b17e-3be2-471e-b385-8dcdda9152f3",
   "metadata": {},
   "outputs": [],
   "source": [
    "#create crosstab\n",
    "crosstab = pd.crosstab(df['days_since_prior_order'], df['order_number'], dropna = False)"
   ]
  },
  {
   "cell_type": "code",
   "execution_count": 7,
   "id": "fd690a27-9c77-49c8-991d-422efa06440c",
   "metadata": {},
   "outputs": [],
   "source": [
    "crosstab.to_clipboard()"
   ]
  },
  {
   "cell_type": "code",
   "execution_count": null,
   "id": "b8255fd7-bea3-466b-8874-ce3f1ba7efd1",
   "metadata": {},
   "outputs": [],
   "source": []
  }
 ],
 "metadata": {
  "kernelspec": {
   "display_name": "Python 3 (ipykernel)",
   "language": "python",
   "name": "python3"
  },
  "language_info": {
   "codemirror_mode": {
    "name": "ipython",
    "version": 3
   },
   "file_extension": ".py",
   "mimetype": "text/x-python",
   "name": "python",
   "nbconvert_exporter": "python",
   "pygments_lexer": "ipython3",
   "version": "3.12.4"
  }
 },
 "nbformat": 4,
 "nbformat_minor": 5
}
