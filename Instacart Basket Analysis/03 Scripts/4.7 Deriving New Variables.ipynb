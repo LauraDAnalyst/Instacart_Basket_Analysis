{
 "cells": [
  {
   "cell_type": "markdown",
   "id": "81c1970d-b7ee-4478-9c29-586000f29c29",
   "metadata": {},
   "source": [
    "01 Import Libraries and Data\n",
    "\n",
    "02 Categorize Products by Price Range\n",
    "\n",
    "03 Create For Loops for Day of Week\n",
    "\n",
    "04 Identify Busiest and Slowest Days\n",
    "\n",
    "05 Find busiest periods of the day\n",
    "\n",
    "06 Export to Pickle\n",
    "\n",
    "07 Re-check price ranges"
   ]
  },
  {
   "cell_type": "markdown",
   "id": "c24c65bc-8a17-4556-b061-0fd84388d914",
   "metadata": {},
   "source": [
    "01 Import Libraries and Data"
   ]
  },
  {
   "cell_type": "code",
   "execution_count": 2,
   "id": "5ec2726b-346e-43e3-9499-158f60d726c9",
   "metadata": {},
   "outputs": [],
   "source": [
    "import pandas as pd\n",
    "import numpy as np\n",
    "import os\n"
   ]
  },
  {
   "cell_type": "code",
   "execution_count": 8,
   "id": "ba86cd5f-a1c4-4e01-ad85-15f7ce752969",
   "metadata": {},
   "outputs": [],
   "source": [
    "df_ords_prods_merge=pd.read_pickle(r'/Users/Owner/Documents/CareerFoundry/Data Immersion/Achievement 4/01-07-2024 Instacart Basket Analysis/02 Data/Prepared Data/ords_prods_merge.pkl')"
   ]
  },
  {
   "cell_type": "code",
   "execution_count": 12,
   "id": "f935d11f-5595-40e9-b058-2639a6443c60",
   "metadata": {},
   "outputs": [],
   "source": [
    "df = df_ords_prods_merge[:1000000]"
   ]
  },
  {
   "cell_type": "code",
   "execution_count": 16,
   "id": "e8715b58-93ec-4361-b0a9-7059751d4a81",
   "metadata": {},
   "outputs": [
    {
     "data": {
      "text/plain": [
       "(1000000, 15)"
      ]
     },
     "execution_count": 16,
     "metadata": {},
     "output_type": "execute_result"
    }
   ],
   "source": [
    "df.shape"
   ]
  },
  {
   "cell_type": "code",
   "execution_count": 22,
   "id": "e5d842f5-93c5-4ce5-9aca-f2aa57141bcd",
   "metadata": {},
   "outputs": [
    {
     "data": {
      "text/plain": [
       "['product_id',\n",
       " 'product_name',\n",
       " 'aisle_id',\n",
       " 'department_id',\n",
       " 'prices',\n",
       " 'order_id',\n",
       " 'user_id',\n",
       " 'eval_set',\n",
       " 'order_number',\n",
       " 'order_dow',\n",
       " 'order_hour_of_day',\n",
       " 'days_since_prior_order',\n",
       " 'add_to_cart_order',\n",
       " 'reordered',\n",
       " '_merge']"
      ]
     },
     "execution_count": 22,
     "metadata": {},
     "output_type": "execute_result"
    }
   ],
   "source": [
    "#Look for extra column\n",
    "list(df.columns)"
   ]
  },
  {
   "cell_type": "code",
   "execution_count": 24,
   "id": "91221ba6-36a8-4522-b829-78b7004b216e",
   "metadata": {},
   "outputs": [],
   "source": [
    "#Drop Merge Column\n",
    "df = df.drop('_merge', axis=1)"
   ]
  },
  {
   "cell_type": "code",
   "execution_count": 26,
   "id": "421a0bf3-7d03-486a-9f5b-3469ff691537",
   "metadata": {},
   "outputs": [
    {
     "data": {
      "text/plain": [
       "(1000000, 14)"
      ]
     },
     "execution_count": 26,
     "metadata": {},
     "output_type": "execute_result"
    }
   ],
   "source": [
    "#check output\n",
    "df.shape"
   ]
  },
  {
   "cell_type": "markdown",
   "id": "e09b7d0d-a01c-4257-9943-9e955a031aa8",
   "metadata": {},
   "source": [
    "02 Categorize Products by Price Range"
   ]
  },
  {
   "cell_type": "code",
   "execution_count": 14,
   "id": "514dd0d0-0471-4cab-a03f-9ae9cac033c8",
   "metadata": {},
   "outputs": [],
   "source": [
    "#Create function for price range\n",
    "def price_label(row):\n",
    "\n",
    "  if row['prices'] <= 5:\n",
    "    return 'Low-range product'\n",
    "  elif (row['prices'] > 5) and (row['prices'] <= 15):\n",
    "    return 'Mid-range product'\n",
    "  elif row['prices'] > 15:\n",
    "    return 'High range'\n",
    "  else: return 'Not enough data'"
   ]
  },
  {
   "cell_type": "code",
   "execution_count": 29,
   "id": "d4a700d1-a06f-4e4a-be45-24e7bd86f61c",
   "metadata": {},
   "outputs": [],
   "source": [
    "#Apply the function\n",
    "df['price_range'] = df.apply(price_label, axis=1)"
   ]
  },
  {
   "cell_type": "code",
   "execution_count": 31,
   "id": "881c9b95-f5a7-4840-8687-f59cbe95a581",
   "metadata": {},
   "outputs": [
    {
     "data": {
      "text/plain": [
       "price_range\n",
       "Mid-range product    652638\n",
       "Low-range product    338018\n",
       "High range             9344\n",
       "Name: count, dtype: int64"
      ]
     },
     "execution_count": 31,
     "metadata": {},
     "output_type": "execute_result"
    }
   ],
   "source": [
    "#Check output\n",
    "df['price_range'].value_counts(dropna = False)"
   ]
  },
  {
   "cell_type": "code",
   "execution_count": 33,
   "id": "bd1ac803-b657-4c39-bb1e-09556be75805",
   "metadata": {},
   "outputs": [
    {
     "data": {
      "text/plain": [
       "24.5"
      ]
     },
     "execution_count": 33,
     "metadata": {},
     "output_type": "execute_result"
    }
   ],
   "source": [
    "#Check max price\n",
    "df['prices'].max()"
   ]
  },
  {
   "cell_type": "code",
   "execution_count": 35,
   "id": "3583ea4d-fe00-4b0c-8949-2183664da752",
   "metadata": {},
   "outputs": [],
   "source": [
    "df.loc[df['prices'] > 15, 'price_range_loc'] = 'High-range product'"
   ]
  },
  {
   "cell_type": "code",
   "execution_count": 37,
   "id": "ce31b2a8-31b7-4f6a-aa45-a2afc8450c21",
   "metadata": {},
   "outputs": [],
   "source": [
    "df.loc[(df['prices'] <= 15) & (df['prices'] > 5), 'price_range_loc'] = 'Mid-range product' "
   ]
  },
  {
   "cell_type": "code",
   "execution_count": 39,
   "id": "f32c9ed6-7149-45cc-8565-eda53237ad77",
   "metadata": {},
   "outputs": [],
   "source": [
    "df.loc[df['prices'] <= 5, 'price_range_loc'] = 'Low-range product'"
   ]
  },
  {
   "cell_type": "code",
   "execution_count": 41,
   "id": "fe9148eb-6982-40a8-8e65-3bdd86c4ac69",
   "metadata": {},
   "outputs": [
    {
     "data": {
      "text/plain": [
       "price_range_loc\n",
       "Mid-range product     652638\n",
       "Low-range product     338018\n",
       "High-range product      9344\n",
       "Name: count, dtype: int64"
      ]
     },
     "execution_count": 41,
     "metadata": {},
     "output_type": "execute_result"
    }
   ],
   "source": [
    "df['price_range_loc'].value_counts(dropna = False)"
   ]
  },
  {
   "cell_type": "code",
   "execution_count": 43,
   "id": "addd16a0-7bef-4ec7-95b9-4b3e263993c3",
   "metadata": {},
   "outputs": [],
   "source": [
    "#Run function on entire dataset\n",
    "df_ords_prods_merge.loc[df_ords_prods_merge['prices'] > 15, 'price_range_loc'] = 'High-range product'"
   ]
  },
  {
   "cell_type": "code",
   "execution_count": 45,
   "id": "b763bb21-19dd-4445-80a5-bad8efdf1c8b",
   "metadata": {},
   "outputs": [],
   "source": [
    "df_ords_prods_merge.loc[(df_ords_prods_merge['prices'] <= 15) & (df['prices'] > 5), 'price_range_loc'] = 'Mid-range product' "
   ]
  },
  {
   "cell_type": "code",
   "execution_count": 47,
   "id": "892e1ffc-ebaf-4adb-b7fd-91242dcd5be9",
   "metadata": {},
   "outputs": [],
   "source": [
    "df_ords_prods_merge.loc[df_ords_prods_merge['prices'] <= 5, 'price_range_loc'] = 'Low-range product'"
   ]
  },
  {
   "cell_type": "code",
   "execution_count": 49,
   "id": "d6949f91-e968-457e-a928-f96a0161891b",
   "metadata": {},
   "outputs": [
    {
     "data": {
      "text/plain": [
       "price_range_loc\n",
       "NaN                   21208222\n",
       "Low-range product     10126321\n",
       "Mid-range product       652638\n",
       "High-range product      417678\n",
       "Name: count, dtype: int64"
      ]
     },
     "execution_count": 49,
     "metadata": {},
     "output_type": "execute_result"
    }
   ],
   "source": [
    "df_ords_prods_merge['price_range_loc'].value_counts(dropna = False)"
   ]
  },
  {
   "cell_type": "markdown",
   "id": "f7972f14-7f6f-42d1-a1c0-7e17297d7db1",
   "metadata": {},
   "source": [
    "03 Create For Loops for Day of Week"
   ]
  },
  {
   "cell_type": "code",
   "execution_count": 54,
   "id": "fbb9e9c1-8b7a-45f7-8b50-ddf350b5ce7b",
   "metadata": {},
   "outputs": [
    {
     "data": {
      "text/plain": [
       "order_dow\n",
       "0    6204182\n",
       "1    5660230\n",
       "6    4496490\n",
       "2    4213830\n",
       "5    4205791\n",
       "3    3840534\n",
       "4    3783802\n",
       "Name: count, dtype: int64"
      ]
     },
     "execution_count": 54,
     "metadata": {},
     "output_type": "execute_result"
    }
   ],
   "source": [
    "df_ords_prods_merge['order_dow'].value_counts(dropna = False)"
   ]
  },
  {
   "cell_type": "code",
   "execution_count": 56,
   "id": "0a0c4c44-51f5-4bcb-8734-fd50a6153983",
   "metadata": {},
   "outputs": [],
   "source": [
    "result = []\n",
    "\n",
    "for value in df_ords_prods_merge[\"order_dow\"]:\n",
    "  if value == 0:\n",
    "    result.append(\"Busiest day\")\n",
    "  elif value == 4:\n",
    "    result.append(\"Least busy\")\n",
    "  else:\n",
    "    result.append(\"Regularly busy\")"
   ]
  },
  {
   "cell_type": "code",
   "execution_count": 58,
   "id": "0d07471b-3827-4424-a4e8-3811a5992397",
   "metadata": {
    "scrolled": true
   },
   "outputs": [
    {
     "data": {
      "text/plain": [
       "['Regularly busy',\n",
       " 'Regularly busy',\n",
       " 'Busiest day',\n",
       " 'Regularly busy',\n",
       " 'Least busy',\n",
       " 'Regularly busy',\n",
       " 'Regularly busy',\n",
       " 'Regularly busy',\n",
       " 'Regularly busy',\n",
       " 'Regularly busy',\n",
       " 'Regularly busy',\n",
       " 'Regularly busy',\n",
       " 'Least busy',\n",
       " 'Regularly busy',\n",
       " 'Regularly busy',\n",
       " 'Regularly busy',\n",
       " 'Regularly busy',\n",
       " 'Regularly busy',\n",
       " 'Regularly busy',\n",
       " 'Regularly busy',\n",
       " 'Regularly busy',\n",
       " 'Regularly busy',\n",
       " 'Regularly busy',\n",
       " 'Regularly busy',\n",
       " 'Regularly busy',\n",
       " 'Busiest day',\n",
       " 'Busiest day',\n",
       " 'Busiest day',\n",
       " 'Busiest day',\n",
       " 'Busiest day',\n",
       " 'Least busy',\n",
       " 'Regularly busy',\n",
       " 'Regularly busy',\n",
       " 'Busiest day',\n",
       " 'Regularly busy',\n",
       " 'Regularly busy',\n",
       " 'Least busy',\n",
       " 'Regularly busy',\n",
       " 'Busiest day',\n",
       " 'Regularly busy',\n",
       " 'Busiest day',\n",
       " 'Least busy',\n",
       " 'Busiest day',\n",
       " 'Regularly busy',\n",
       " 'Regularly busy',\n",
       " 'Regularly busy',\n",
       " 'Regularly busy',\n",
       " 'Regularly busy',\n",
       " 'Regularly busy',\n",
       " 'Regularly busy',\n",
       " 'Regularly busy',\n",
       " 'Regularly busy',\n",
       " 'Regularly busy',\n",
       " 'Regularly busy',\n",
       " 'Regularly busy',\n",
       " 'Busiest day',\n",
       " 'Regularly busy',\n",
       " 'Regularly busy',\n",
       " 'Busiest day',\n",
       " 'Least busy',\n",
       " 'Regularly busy',\n",
       " 'Regularly busy',\n",
       " 'Regularly busy',\n",
       " 'Regularly busy',\n",
       " 'Regularly busy',\n",
       " 'Busiest day',\n",
       " 'Regularly busy',\n",
       " 'Regularly busy',\n",
       " 'Regularly busy',\n",
       " 'Least busy',\n",
       " 'Regularly busy',\n",
       " 'Least busy',\n",
       " 'Busiest day',\n",
       " 'Regularly busy',\n",
       " 'Busiest day',\n",
       " 'Busiest day',\n",
       " 'Least busy',\n",
       " 'Least busy',\n",
       " 'Least busy',\n",
       " 'Least busy',\n",
       " 'Least busy',\n",
       " 'Least busy',\n",
       " 'Least busy',\n",
       " 'Least busy',\n",
       " 'Least busy',\n",
       " 'Least busy',\n",
       " 'Least busy',\n",
       " 'Least busy',\n",
       " 'Busiest day',\n",
       " 'Regularly busy',\n",
       " 'Regularly busy',\n",
       " 'Regularly busy',\n",
       " 'Busiest day',\n",
       " 'Busiest day',\n",
       " 'Regularly busy',\n",
       " 'Regularly busy',\n",
       " 'Regularly busy',\n",
       " 'Regularly busy',\n",
       " 'Regularly busy',\n",
       " 'Regularly busy',\n",
       " 'Busiest day',\n",
       " 'Regularly busy',\n",
       " 'Busiest day',\n",
       " 'Busiest day',\n",
       " 'Regularly busy',\n",
       " 'Regularly busy',\n",
       " 'Least busy',\n",
       " 'Regularly busy',\n",
       " 'Regularly busy',\n",
       " 'Regularly busy',\n",
       " 'Regularly busy',\n",
       " 'Regularly busy',\n",
       " 'Busiest day',\n",
       " 'Regularly busy',\n",
       " 'Regularly busy',\n",
       " 'Regularly busy',\n",
       " 'Regularly busy',\n",
       " 'Busiest day',\n",
       " 'Regularly busy',\n",
       " 'Busiest day',\n",
       " 'Busiest day',\n",
       " 'Busiest day',\n",
       " 'Regularly busy',\n",
       " 'Regularly busy',\n",
       " 'Regularly busy',\n",
       " 'Regularly busy',\n",
       " 'Regularly busy',\n",
       " 'Regularly busy',\n",
       " 'Regularly busy',\n",
       " 'Regularly busy',\n",
       " 'Regularly busy',\n",
       " 'Regularly busy',\n",
       " 'Regularly busy',\n",
       " 'Least busy',\n",
       " 'Regularly busy',\n",
       " 'Regularly busy',\n",
       " 'Regularly busy',\n",
       " 'Least busy',\n",
       " 'Regularly busy',\n",
       " 'Regularly busy',\n",
       " 'Regularly busy',\n",
       " 'Regularly busy',\n",
       " 'Regularly busy',\n",
       " 'Regularly busy',\n",
       " 'Regularly busy',\n",
       " 'Regularly busy',\n",
       " 'Regularly busy',\n",
       " 'Regularly busy',\n",
       " 'Regularly busy',\n",
       " 'Least busy',\n",
       " 'Regularly busy',\n",
       " 'Least busy',\n",
       " 'Busiest day',\n",
       " 'Regularly busy',\n",
       " 'Busiest day',\n",
       " 'Regularly busy',\n",
       " 'Regularly busy',\n",
       " 'Least busy',\n",
       " 'Least busy',\n",
       " 'Busiest day',\n",
       " 'Regularly busy',\n",
       " 'Least busy',\n",
       " 'Regularly busy',\n",
       " 'Regularly busy',\n",
       " 'Busiest day',\n",
       " 'Least busy',\n",
       " 'Least busy',\n",
       " 'Regularly busy',\n",
       " 'Busiest day',\n",
       " 'Regularly busy',\n",
       " 'Regularly busy',\n",
       " 'Regularly busy',\n",
       " 'Regularly busy',\n",
       " 'Busiest day',\n",
       " 'Regularly busy',\n",
       " 'Least busy',\n",
       " 'Regularly busy',\n",
       " 'Regularly busy',\n",
       " 'Regularly busy',\n",
       " 'Regularly busy',\n",
       " 'Regularly busy',\n",
       " 'Regularly busy',\n",
       " 'Least busy',\n",
       " 'Regularly busy',\n",
       " 'Least busy',\n",
       " 'Least busy',\n",
       " 'Least busy',\n",
       " 'Least busy',\n",
       " 'Least busy',\n",
       " 'Regularly busy',\n",
       " 'Least busy',\n",
       " 'Regularly busy',\n",
       " 'Regularly busy',\n",
       " 'Regularly busy',\n",
       " 'Least busy',\n",
       " 'Least busy',\n",
       " 'Regularly busy',\n",
       " 'Regularly busy',\n",
       " 'Least busy',\n",
       " 'Regularly busy',\n",
       " 'Regularly busy',\n",
       " 'Regularly busy',\n",
       " 'Regularly busy',\n",
       " 'Regularly busy',\n",
       " 'Least busy',\n",
       " 'Least busy',\n",
       " 'Regularly busy',\n",
       " 'Busiest day',\n",
       " 'Regularly busy',\n",
       " 'Regularly busy',\n",
       " 'Regularly busy',\n",
       " 'Regularly busy',\n",
       " 'Regularly busy',\n",
       " 'Regularly busy',\n",
       " 'Least busy',\n",
       " 'Busiest day',\n",
       " 'Least busy',\n",
       " 'Least busy',\n",
       " 'Regularly busy',\n",
       " 'Least busy',\n",
       " 'Regularly busy',\n",
       " 'Least busy',\n",
       " 'Regularly busy',\n",
       " 'Least busy',\n",
       " 'Least busy',\n",
       " 'Regularly busy',\n",
       " 'Regularly busy',\n",
       " 'Regularly busy',\n",
       " 'Regularly busy',\n",
       " 'Regularly busy',\n",
       " 'Regularly busy',\n",
       " 'Least busy',\n",
       " 'Regularly busy',\n",
       " 'Least busy',\n",
       " 'Regularly busy',\n",
       " 'Regularly busy',\n",
       " 'Regularly busy',\n",
       " 'Regularly busy',\n",
       " 'Regularly busy',\n",
       " 'Regularly busy',\n",
       " 'Regularly busy',\n",
       " 'Least busy',\n",
       " 'Least busy',\n",
       " 'Least busy',\n",
       " 'Regularly busy',\n",
       " 'Regularly busy',\n",
       " 'Busiest day',\n",
       " 'Busiest day',\n",
       " 'Busiest day',\n",
       " 'Busiest day',\n",
       " 'Regularly busy',\n",
       " 'Busiest day',\n",
       " 'Busiest day',\n",
       " 'Busiest day',\n",
       " 'Regularly busy',\n",
       " 'Regularly busy',\n",
       " 'Regularly busy',\n",
       " 'Regularly busy',\n",
       " 'Regularly busy',\n",
       " 'Regularly busy',\n",
       " 'Busiest day',\n",
       " 'Least busy',\n",
       " 'Regularly busy',\n",
       " 'Busiest day',\n",
       " 'Busiest day',\n",
       " 'Regularly busy',\n",
       " 'Regularly busy',\n",
       " 'Regularly busy',\n",
       " 'Regularly busy',\n",
       " 'Regularly busy',\n",
       " 'Busiest day',\n",
       " 'Least busy',\n",
       " 'Regularly busy',\n",
       " 'Least busy',\n",
       " 'Regularly busy',\n",
       " 'Regularly busy',\n",
       " 'Regularly busy',\n",
       " 'Regularly busy',\n",
       " 'Regularly busy',\n",
       " 'Regularly busy',\n",
       " 'Regularly busy',\n",
       " 'Regularly busy',\n",
       " 'Regularly busy',\n",
       " 'Least busy',\n",
       " 'Regularly busy',\n",
       " 'Busiest day',\n",
       " 'Least busy',\n",
       " 'Busiest day',\n",
       " 'Regularly busy',\n",
       " 'Regularly busy',\n",
       " 'Least busy',\n",
       " 'Regularly busy',\n",
       " 'Least busy',\n",
       " 'Regularly busy',\n",
       " 'Busiest day',\n",
       " 'Regularly busy',\n",
       " 'Least busy',\n",
       " 'Regularly busy',\n",
       " 'Regularly busy',\n",
       " 'Regularly busy',\n",
       " 'Regularly busy',\n",
       " 'Regularly busy',\n",
       " 'Regularly busy',\n",
       " 'Regularly busy',\n",
       " 'Regularly busy',\n",
       " 'Least busy',\n",
       " 'Regularly busy',\n",
       " 'Regularly busy',\n",
       " 'Regularly busy',\n",
       " 'Regularly busy',\n",
       " 'Regularly busy',\n",
       " 'Regularly busy',\n",
       " 'Least busy',\n",
       " 'Least busy',\n",
       " 'Regularly busy',\n",
       " 'Regularly busy',\n",
       " 'Least busy',\n",
       " 'Regularly busy',\n",
       " 'Regularly busy',\n",
       " 'Regularly busy',\n",
       " 'Regularly busy',\n",
       " 'Regularly busy',\n",
       " 'Regularly busy',\n",
       " 'Regularly busy',\n",
       " 'Busiest day',\n",
       " 'Regularly busy',\n",
       " 'Regularly busy',\n",
       " 'Regularly busy',\n",
       " 'Regularly busy',\n",
       " 'Regularly busy',\n",
       " 'Regularly busy',\n",
       " 'Regularly busy',\n",
       " 'Regularly busy',\n",
       " 'Regularly busy',\n",
       " 'Regularly busy',\n",
       " 'Regularly busy',\n",
       " 'Regularly busy',\n",
       " 'Regularly busy',\n",
       " 'Least busy',\n",
       " 'Regularly busy',\n",
       " 'Regularly busy',\n",
       " 'Regularly busy',\n",
       " 'Regularly busy',\n",
       " 'Regularly busy',\n",
       " 'Least busy',\n",
       " 'Regularly busy',\n",
       " 'Regularly busy',\n",
       " 'Regularly busy',\n",
       " 'Regularly busy',\n",
       " 'Regularly busy',\n",
       " 'Regularly busy',\n",
       " 'Regularly busy',\n",
       " 'Regularly busy',\n",
       " 'Regularly busy',\n",
       " 'Regularly busy',\n",
       " 'Regularly busy',\n",
       " 'Regularly busy',\n",
       " 'Least busy',\n",
       " 'Regularly busy',\n",
       " 'Busiest day',\n",
       " 'Regularly busy',\n",
       " 'Least busy',\n",
       " 'Least busy',\n",
       " 'Regularly busy',\n",
       " 'Regularly busy',\n",
       " 'Regularly busy',\n",
       " 'Least busy',\n",
       " 'Regularly busy',\n",
       " 'Regularly busy',\n",
       " 'Regularly busy',\n",
       " 'Regularly busy',\n",
       " 'Regularly busy',\n",
       " 'Regularly busy',\n",
       " 'Least busy',\n",
       " 'Regularly busy',\n",
       " 'Regularly busy',\n",
       " 'Regularly busy',\n",
       " 'Regularly busy',\n",
       " 'Regularly busy',\n",
       " 'Regularly busy',\n",
       " 'Regularly busy',\n",
       " 'Busiest day',\n",
       " 'Regularly busy',\n",
       " 'Busiest day',\n",
       " 'Regularly busy',\n",
       " 'Regularly busy',\n",
       " 'Regularly busy',\n",
       " 'Regularly busy',\n",
       " 'Regularly busy',\n",
       " 'Regularly busy',\n",
       " 'Regularly busy',\n",
       " 'Regularly busy',\n",
       " 'Regularly busy',\n",
       " 'Regularly busy',\n",
       " 'Regularly busy',\n",
       " 'Busiest day',\n",
       " 'Busiest day',\n",
       " 'Regularly busy',\n",
       " 'Busiest day',\n",
       " 'Busiest day',\n",
       " 'Regularly busy',\n",
       " 'Least busy',\n",
       " 'Least busy',\n",
       " 'Regularly busy',\n",
       " 'Regularly busy',\n",
       " 'Regularly busy',\n",
       " 'Regularly busy',\n",
       " 'Regularly busy',\n",
       " 'Regularly busy',\n",
       " 'Regularly busy',\n",
       " 'Regularly busy',\n",
       " 'Least busy',\n",
       " 'Regularly busy',\n",
       " 'Regularly busy',\n",
       " 'Regularly busy',\n",
       " 'Regularly busy',\n",
       " 'Regularly busy',\n",
       " 'Least busy',\n",
       " 'Least busy',\n",
       " 'Regularly busy',\n",
       " 'Regularly busy',\n",
       " 'Regularly busy',\n",
       " 'Regularly busy',\n",
       " 'Regularly busy',\n",
       " 'Regularly busy',\n",
       " 'Regularly busy',\n",
       " 'Regularly busy',\n",
       " 'Regularly busy',\n",
       " 'Regularly busy',\n",
       " 'Busiest day',\n",
       " 'Regularly busy',\n",
       " 'Regularly busy',\n",
       " 'Regularly busy',\n",
       " 'Regularly busy',\n",
       " 'Busiest day',\n",
       " 'Busiest day',\n",
       " 'Busiest day',\n",
       " 'Regularly busy',\n",
       " 'Regularly busy',\n",
       " 'Regularly busy',\n",
       " 'Regularly busy',\n",
       " 'Busiest day',\n",
       " 'Regularly busy',\n",
       " 'Busiest day',\n",
       " 'Regularly busy',\n",
       " 'Busiest day',\n",
       " 'Regularly busy',\n",
       " 'Regularly busy',\n",
       " 'Busiest day',\n",
       " 'Busiest day',\n",
       " 'Regularly busy',\n",
       " 'Regularly busy',\n",
       " 'Regularly busy',\n",
       " 'Least busy',\n",
       " 'Regularly busy',\n",
       " 'Regularly busy',\n",
       " 'Regularly busy',\n",
       " 'Regularly busy',\n",
       " 'Regularly busy',\n",
       " 'Regularly busy',\n",
       " 'Least busy',\n",
       " 'Regularly busy',\n",
       " 'Regularly busy',\n",
       " 'Regularly busy',\n",
       " 'Regularly busy',\n",
       " 'Regularly busy',\n",
       " 'Regularly busy',\n",
       " 'Least busy',\n",
       " 'Regularly busy',\n",
       " 'Regularly busy',\n",
       " 'Regularly busy',\n",
       " 'Least busy',\n",
       " 'Regularly busy',\n",
       " 'Regularly busy',\n",
       " 'Least busy',\n",
       " 'Least busy',\n",
       " 'Regularly busy',\n",
       " 'Regularly busy',\n",
       " 'Least busy',\n",
       " 'Least busy',\n",
       " 'Regularly busy',\n",
       " 'Regularly busy',\n",
       " 'Regularly busy',\n",
       " 'Regularly busy',\n",
       " 'Regularly busy',\n",
       " 'Regularly busy',\n",
       " 'Regularly busy',\n",
       " 'Regularly busy',\n",
       " 'Least busy',\n",
       " 'Regularly busy',\n",
       " 'Least busy',\n",
       " 'Least busy',\n",
       " 'Regularly busy',\n",
       " 'Regularly busy',\n",
       " 'Regularly busy',\n",
       " 'Regularly busy',\n",
       " 'Least busy',\n",
       " 'Regularly busy',\n",
       " 'Regularly busy',\n",
       " 'Regularly busy',\n",
       " 'Regularly busy',\n",
       " 'Regularly busy',\n",
       " 'Regularly busy',\n",
       " 'Regularly busy',\n",
       " 'Busiest day',\n",
       " 'Regularly busy',\n",
       " 'Regularly busy',\n",
       " 'Busiest day',\n",
       " 'Regularly busy',\n",
       " 'Regularly busy',\n",
       " 'Regularly busy',\n",
       " 'Regularly busy',\n",
       " 'Least busy',\n",
       " 'Regularly busy',\n",
       " 'Least busy',\n",
       " 'Regularly busy',\n",
       " 'Regularly busy',\n",
       " 'Regularly busy',\n",
       " 'Regularly busy',\n",
       " 'Regularly busy',\n",
       " 'Regularly busy',\n",
       " 'Least busy',\n",
       " 'Regularly busy',\n",
       " 'Least busy',\n",
       " 'Regularly busy',\n",
       " 'Least busy',\n",
       " 'Least busy',\n",
       " 'Regularly busy',\n",
       " 'Least busy',\n",
       " 'Regularly busy',\n",
       " 'Least busy',\n",
       " 'Least busy',\n",
       " 'Regularly busy',\n",
       " 'Least busy',\n",
       " 'Regularly busy',\n",
       " 'Least busy',\n",
       " 'Least busy',\n",
       " 'Regularly busy',\n",
       " 'Regularly busy',\n",
       " 'Least busy',\n",
       " 'Least busy',\n",
       " 'Least busy',\n",
       " 'Regularly busy',\n",
       " 'Regularly busy',\n",
       " 'Regularly busy',\n",
       " 'Least busy',\n",
       " 'Regularly busy',\n",
       " 'Regularly busy',\n",
       " 'Regularly busy',\n",
       " 'Least busy',\n",
       " 'Regularly busy',\n",
       " 'Least busy',\n",
       " 'Busiest day',\n",
       " 'Regularly busy',\n",
       " 'Least busy',\n",
       " 'Regularly busy',\n",
       " 'Regularly busy',\n",
       " 'Least busy',\n",
       " 'Regularly busy',\n",
       " 'Regularly busy',\n",
       " 'Regularly busy',\n",
       " 'Least busy',\n",
       " 'Regularly busy',\n",
       " 'Regularly busy',\n",
       " 'Regularly busy',\n",
       " 'Least busy',\n",
       " 'Regularly busy',\n",
       " 'Regularly busy',\n",
       " 'Regularly busy',\n",
       " 'Regularly busy',\n",
       " 'Least busy',\n",
       " 'Regularly busy',\n",
       " 'Regularly busy',\n",
       " 'Regularly busy',\n",
       " 'Regularly busy',\n",
       " 'Least busy',\n",
       " 'Busiest day',\n",
       " 'Regularly busy',\n",
       " 'Regularly busy',\n",
       " 'Regularly busy',\n",
       " 'Least busy',\n",
       " 'Regularly busy',\n",
       " 'Regularly busy',\n",
       " 'Regularly busy',\n",
       " 'Regularly busy',\n",
       " 'Regularly busy',\n",
       " 'Regularly busy',\n",
       " 'Regularly busy',\n",
       " 'Regularly busy',\n",
       " 'Regularly busy',\n",
       " 'Regularly busy',\n",
       " 'Regularly busy',\n",
       " 'Least busy',\n",
       " 'Regularly busy',\n",
       " 'Regularly busy',\n",
       " 'Regularly busy',\n",
       " 'Regularly busy',\n",
       " 'Regularly busy',\n",
       " 'Regularly busy',\n",
       " 'Least busy',\n",
       " 'Regularly busy',\n",
       " 'Regularly busy',\n",
       " 'Regularly busy',\n",
       " 'Least busy',\n",
       " 'Least busy',\n",
       " 'Regularly busy',\n",
       " 'Regularly busy',\n",
       " 'Least busy',\n",
       " 'Regularly busy',\n",
       " 'Regularly busy',\n",
       " 'Regularly busy',\n",
       " 'Regularly busy',\n",
       " 'Regularly busy',\n",
       " 'Regularly busy',\n",
       " 'Least busy',\n",
       " 'Regularly busy',\n",
       " 'Regularly busy',\n",
       " 'Regularly busy',\n",
       " 'Regularly busy',\n",
       " 'Least busy',\n",
       " 'Least busy',\n",
       " 'Regularly busy',\n",
       " 'Regularly busy',\n",
       " 'Regularly busy',\n",
       " 'Regularly busy',\n",
       " 'Regularly busy',\n",
       " 'Regularly busy',\n",
       " 'Regularly busy',\n",
       " 'Regularly busy',\n",
       " 'Regularly busy',\n",
       " 'Regularly busy',\n",
       " 'Least busy',\n",
       " 'Regularly busy',\n",
       " 'Regularly busy',\n",
       " 'Least busy',\n",
       " 'Regularly busy',\n",
       " 'Regularly busy',\n",
       " 'Busiest day',\n",
       " 'Busiest day',\n",
       " 'Regularly busy',\n",
       " 'Regularly busy',\n",
       " 'Regularly busy',\n",
       " 'Least busy',\n",
       " 'Regularly busy',\n",
       " 'Regularly busy',\n",
       " 'Least busy',\n",
       " 'Regularly busy',\n",
       " 'Regularly busy',\n",
       " 'Regularly busy',\n",
       " 'Regularly busy',\n",
       " 'Regularly busy',\n",
       " 'Busiest day',\n",
       " 'Busiest day',\n",
       " 'Busiest day',\n",
       " 'Busiest day',\n",
       " 'Busiest day',\n",
       " 'Busiest day',\n",
       " 'Regularly busy',\n",
       " 'Regularly busy',\n",
       " 'Least busy',\n",
       " 'Regularly busy',\n",
       " 'Regularly busy',\n",
       " 'Regularly busy',\n",
       " 'Regularly busy',\n",
       " 'Regularly busy',\n",
       " 'Regularly busy',\n",
       " 'Regularly busy',\n",
       " 'Regularly busy',\n",
       " 'Least busy',\n",
       " 'Regularly busy',\n",
       " 'Busiest day',\n",
       " 'Least busy',\n",
       " 'Regularly busy',\n",
       " 'Regularly busy',\n",
       " 'Regularly busy',\n",
       " 'Busiest day',\n",
       " 'Busiest day',\n",
       " 'Busiest day',\n",
       " 'Regularly busy',\n",
       " 'Least busy',\n",
       " 'Regularly busy',\n",
       " 'Regularly busy',\n",
       " 'Regularly busy',\n",
       " 'Regularly busy',\n",
       " 'Regularly busy',\n",
       " 'Regularly busy',\n",
       " 'Least busy',\n",
       " 'Regularly busy',\n",
       " 'Regularly busy',\n",
       " 'Least busy',\n",
       " 'Regularly busy',\n",
       " 'Least busy',\n",
       " 'Regularly busy',\n",
       " 'Regularly busy',\n",
       " 'Busiest day',\n",
       " 'Busiest day',\n",
       " 'Regularly busy',\n",
       " 'Least busy',\n",
       " 'Regularly busy',\n",
       " 'Regularly busy',\n",
       " 'Regularly busy',\n",
       " 'Regularly busy',\n",
       " 'Regularly busy',\n",
       " 'Regularly busy',\n",
       " 'Regularly busy',\n",
       " 'Busiest day',\n",
       " 'Regularly busy',\n",
       " 'Regularly busy',\n",
       " 'Least busy',\n",
       " 'Regularly busy',\n",
       " 'Regularly busy',\n",
       " 'Regularly busy',\n",
       " 'Regularly busy',\n",
       " 'Regularly busy',\n",
       " 'Busiest day',\n",
       " 'Least busy',\n",
       " 'Regularly busy',\n",
       " 'Regularly busy',\n",
       " 'Busiest day',\n",
       " 'Regularly busy',\n",
       " 'Regularly busy',\n",
       " 'Regularly busy',\n",
       " 'Regularly busy',\n",
       " 'Least busy',\n",
       " 'Regularly busy',\n",
       " 'Regularly busy',\n",
       " 'Busiest day',\n",
       " 'Least busy',\n",
       " 'Least busy',\n",
       " 'Regularly busy',\n",
       " 'Regularly busy',\n",
       " 'Regularly busy',\n",
       " 'Regularly busy',\n",
       " 'Regularly busy',\n",
       " 'Regularly busy',\n",
       " 'Regularly busy',\n",
       " 'Regularly busy',\n",
       " 'Regularly busy',\n",
       " 'Regularly busy',\n",
       " 'Regularly busy',\n",
       " 'Regularly busy',\n",
       " 'Regularly busy',\n",
       " 'Regularly busy',\n",
       " 'Regularly busy',\n",
       " 'Regularly busy',\n",
       " 'Regularly busy',\n",
       " 'Regularly busy',\n",
       " 'Regularly busy',\n",
       " 'Regularly busy',\n",
       " 'Regularly busy',\n",
       " 'Regularly busy',\n",
       " 'Regularly busy',\n",
       " 'Regularly busy',\n",
       " 'Regularly busy',\n",
       " 'Regularly busy',\n",
       " 'Regularly busy',\n",
       " 'Regularly busy',\n",
       " 'Regularly busy',\n",
       " 'Regularly busy',\n",
       " 'Regularly busy',\n",
       " 'Regularly busy',\n",
       " 'Regularly busy',\n",
       " 'Regularly busy',\n",
       " 'Regularly busy',\n",
       " 'Regularly busy',\n",
       " 'Regularly busy',\n",
       " 'Regularly busy',\n",
       " 'Regularly busy',\n",
       " 'Regularly busy',\n",
       " 'Regularly busy',\n",
       " 'Regularly busy',\n",
       " 'Regularly busy',\n",
       " 'Regularly busy',\n",
       " 'Regularly busy',\n",
       " 'Least busy',\n",
       " 'Regularly busy',\n",
       " 'Regularly busy',\n",
       " 'Least busy',\n",
       " 'Regularly busy',\n",
       " 'Regularly busy',\n",
       " 'Busiest day',\n",
       " 'Regularly busy',\n",
       " 'Regularly busy',\n",
       " 'Regularly busy',\n",
       " 'Least busy',\n",
       " 'Regularly busy',\n",
       " 'Regularly busy',\n",
       " 'Regularly busy',\n",
       " 'Regularly busy',\n",
       " 'Regularly busy',\n",
       " 'Least busy',\n",
       " 'Regularly busy',\n",
       " 'Regularly busy',\n",
       " 'Regularly busy',\n",
       " 'Regularly busy',\n",
       " 'Least busy',\n",
       " 'Regularly busy',\n",
       " 'Busiest day',\n",
       " 'Regularly busy',\n",
       " 'Regularly busy',\n",
       " 'Regularly busy',\n",
       " 'Busiest day',\n",
       " 'Regularly busy',\n",
       " 'Regularly busy',\n",
       " 'Regularly busy',\n",
       " 'Regularly busy',\n",
       " 'Busiest day',\n",
       " 'Regularly busy',\n",
       " 'Regularly busy',\n",
       " 'Least busy',\n",
       " 'Regularly busy',\n",
       " 'Least busy',\n",
       " 'Busiest day',\n",
       " 'Busiest day',\n",
       " 'Regularly busy',\n",
       " 'Regularly busy',\n",
       " 'Regularly busy',\n",
       " 'Busiest day',\n",
       " 'Regularly busy',\n",
       " 'Least busy',\n",
       " 'Busiest day',\n",
       " 'Regularly busy',\n",
       " 'Busiest day',\n",
       " 'Regularly busy',\n",
       " 'Least busy',\n",
       " 'Regularly busy',\n",
       " 'Busiest day',\n",
       " 'Regularly busy',\n",
       " 'Regularly busy',\n",
       " 'Regularly busy',\n",
       " 'Regularly busy',\n",
       " 'Regularly busy',\n",
       " 'Regularly busy',\n",
       " 'Regularly busy',\n",
       " 'Regularly busy',\n",
       " 'Regularly busy',\n",
       " 'Least busy',\n",
       " 'Busiest day',\n",
       " 'Regularly busy',\n",
       " 'Busiest day',\n",
       " 'Busiest day',\n",
       " 'Regularly busy',\n",
       " 'Busiest day',\n",
       " 'Regularly busy',\n",
       " 'Least busy',\n",
       " 'Regularly busy',\n",
       " 'Regularly busy',\n",
       " 'Regularly busy',\n",
       " 'Regularly busy',\n",
       " 'Regularly busy',\n",
       " 'Regularly busy',\n",
       " 'Regularly busy',\n",
       " 'Least busy',\n",
       " 'Regularly busy',\n",
       " 'Regularly busy',\n",
       " 'Regularly busy',\n",
       " 'Regularly busy',\n",
       " 'Regularly busy',\n",
       " 'Regularly busy',\n",
       " 'Regularly busy',\n",
       " 'Least busy',\n",
       " 'Regularly busy',\n",
       " 'Regularly busy',\n",
       " 'Regularly busy',\n",
       " 'Least busy',\n",
       " 'Regularly busy',\n",
       " 'Regularly busy',\n",
       " 'Regularly busy',\n",
       " 'Regularly busy',\n",
       " 'Least busy',\n",
       " 'Regularly busy',\n",
       " 'Regularly busy',\n",
       " 'Regularly busy',\n",
       " 'Regularly busy',\n",
       " 'Regularly busy',\n",
       " 'Regularly busy',\n",
       " 'Regularly busy',\n",
       " 'Regularly busy',\n",
       " 'Regularly busy',\n",
       " 'Busiest day',\n",
       " 'Regularly busy',\n",
       " 'Regularly busy',\n",
       " 'Regularly busy',\n",
       " 'Busiest day',\n",
       " 'Least busy',\n",
       " 'Regularly busy',\n",
       " 'Regularly busy',\n",
       " 'Regularly busy',\n",
       " 'Regularly busy',\n",
       " 'Least busy',\n",
       " 'Regularly busy',\n",
       " 'Least busy',\n",
       " 'Regularly busy',\n",
       " 'Regularly busy',\n",
       " 'Least busy',\n",
       " 'Regularly busy',\n",
       " 'Least busy',\n",
       " 'Least busy',\n",
       " 'Regularly busy',\n",
       " 'Regularly busy',\n",
       " 'Regularly busy',\n",
       " 'Regularly busy',\n",
       " 'Regularly busy',\n",
       " 'Regularly busy',\n",
       " 'Regularly busy',\n",
       " 'Least busy',\n",
       " 'Regularly busy',\n",
       " 'Regularly busy',\n",
       " 'Regularly busy',\n",
       " 'Regularly busy',\n",
       " 'Busiest day',\n",
       " 'Busiest day',\n",
       " 'Regularly busy',\n",
       " 'Busiest day',\n",
       " 'Regularly busy',\n",
       " 'Regularly busy',\n",
       " 'Regularly busy',\n",
       " 'Regularly busy',\n",
       " 'Regularly busy',\n",
       " 'Regularly busy',\n",
       " 'Busiest day',\n",
       " 'Regularly busy',\n",
       " 'Least busy',\n",
       " 'Regularly busy',\n",
       " 'Regularly busy',\n",
       " 'Regularly busy',\n",
       " 'Regularly busy',\n",
       " 'Regularly busy',\n",
       " 'Regularly busy',\n",
       " 'Regularly busy',\n",
       " 'Busiest day',\n",
       " 'Regularly busy',\n",
       " 'Busiest day',\n",
       " 'Regularly busy',\n",
       " 'Regularly busy',\n",
       " 'Regularly busy',\n",
       " 'Least busy',\n",
       " 'Regularly busy',\n",
       " 'Regularly busy',\n",
       " 'Regularly busy',\n",
       " 'Least busy',\n",
       " 'Regularly busy',\n",
       " 'Busiest day',\n",
       " 'Least busy',\n",
       " 'Regularly busy',\n",
       " 'Regularly busy',\n",
       " 'Regularly busy',\n",
       " 'Regularly busy',\n",
       " 'Regularly busy',\n",
       " 'Regularly busy',\n",
       " 'Regularly busy',\n",
       " 'Busiest day',\n",
       " 'Regularly busy',\n",
       " 'Busiest day',\n",
       " 'Busiest day',\n",
       " 'Busiest day',\n",
       " 'Regularly busy',\n",
       " 'Regularly busy',\n",
       " 'Regularly busy',\n",
       " 'Regularly busy',\n",
       " 'Least busy',\n",
       " 'Regularly busy',\n",
       " 'Regularly busy',\n",
       " 'Regularly busy',\n",
       " 'Regularly busy',\n",
       " 'Least busy',\n",
       " 'Regularly busy',\n",
       " 'Regularly busy',\n",
       " 'Regularly busy',\n",
       " 'Regularly busy',\n",
       " 'Least busy',\n",
       " 'Least busy',\n",
       " 'Regularly busy',\n",
       " 'Regularly busy',\n",
       " 'Regularly busy',\n",
       " 'Regularly busy',\n",
       " 'Regularly busy',\n",
       " 'Least busy',\n",
       " 'Regularly busy',\n",
       " 'Regularly busy',\n",
       " 'Least busy',\n",
       " 'Regularly busy',\n",
       " 'Regularly busy',\n",
       " 'Least busy',\n",
       " 'Regularly busy',\n",
       " 'Least busy',\n",
       " 'Regularly busy',\n",
       " 'Least busy',\n",
       " 'Least busy',\n",
       " 'Least busy',\n",
       " 'Regularly busy',\n",
       " 'Least busy',\n",
       " 'Regularly busy',\n",
       " 'Least busy',\n",
       " 'Regularly busy',\n",
       " 'Regularly busy',\n",
       " 'Least busy',\n",
       " 'Regularly busy',\n",
       " 'Least busy',\n",
       " 'Regularly busy',\n",
       " ...]"
      ]
     },
     "execution_count": 58,
     "metadata": {},
     "output_type": "execute_result"
    }
   ],
   "source": [
    "result"
   ]
  },
  {
   "cell_type": "code",
   "execution_count": 60,
   "id": "a5df4a20-2bec-4690-bf04-89a6caf2bf3b",
   "metadata": {},
   "outputs": [],
   "source": [
    "df_ords_prods_merge['busiest day'] = result"
   ]
  },
  {
   "cell_type": "code",
   "execution_count": 62,
   "id": "b919369f-1dfb-4d80-8253-b3828264eb0b",
   "metadata": {},
   "outputs": [
    {
     "data": {
      "text/plain": [
       "busiest day\n",
       "Regularly busy    22416875\n",
       "Busiest day        6204182\n",
       "Least busy         3783802\n",
       "Name: count, dtype: int64"
      ]
     },
     "execution_count": 62,
     "metadata": {},
     "output_type": "execute_result"
    }
   ],
   "source": [
    "#check frequency\n",
    "df_ords_prods_merge['busiest day'].value_counts(dropna = False)"
   ]
  },
  {
   "cell_type": "markdown",
   "id": "f31c83f7-0794-4c76-ae29-d5006dd69d73",
   "metadata": {},
   "source": [
    "04 Identify Busiest and Slowest Days"
   ]
  },
  {
   "cell_type": "code",
   "execution_count": 3,
   "id": "26a61a63-5248-467c-af7e-d9fc228cba8c",
   "metadata": {},
   "outputs": [],
   "source": [
    "#Re-import data and libraries\n",
    "import pandas as pd\n",
    "import numpy as np\n",
    "import os"
   ]
  },
  {
   "cell_type": "code",
   "execution_count": 5,
   "id": "19ce25eb-94ee-4031-92e1-6e0b6c350713",
   "metadata": {},
   "outputs": [],
   "source": [
    "df_ords_prods_merge=pd.read_pickle(r'/Users/Owner/Documents/CareerFoundry/Data Immersion/Achievement 4/01-07-2024 Instacart Basket Analysis/02 Data/Prepared Data/ords_prods_merge.pkl')"
   ]
  },
  {
   "cell_type": "code",
   "execution_count": 9,
   "id": "5da144a4-5c90-4500-89e0-3bae64fc81bb",
   "metadata": {},
   "outputs": [
    {
     "data": {
      "text/plain": [
       "['product_id',\n",
       " 'product_name',\n",
       " 'aisle_id',\n",
       " 'department_id',\n",
       " 'prices',\n",
       " 'order_id',\n",
       " 'user_id',\n",
       " 'eval_set',\n",
       " 'order_number',\n",
       " 'order_dow',\n",
       " 'order_hour_of_day',\n",
       " 'days_since_prior_order',\n",
       " 'add_to_cart_order',\n",
       " 'reordered',\n",
       " '_merge']"
      ]
     },
     "execution_count": 9,
     "metadata": {},
     "output_type": "execute_result"
    }
   ],
   "source": [
    "list(df_ords_prods_merge.columns)"
   ]
  },
  {
   "cell_type": "code",
   "execution_count": 11,
   "id": "409b64ca-832d-434e-8a28-2cdc84b02489",
   "metadata": {},
   "outputs": [],
   "source": [
    "#Drop Merge Column\n",
    "df_ords_prods_merge = df_ords_prods_merge.drop('_merge', axis=1)"
   ]
  },
  {
   "cell_type": "code",
   "execution_count": 13,
   "id": "f54cdfea-0fb3-4d2d-8673-a0547f2f9800",
   "metadata": {},
   "outputs": [
    {
     "data": {
      "text/plain": [
       "['product_id',\n",
       " 'product_name',\n",
       " 'aisle_id',\n",
       " 'department_id',\n",
       " 'prices',\n",
       " 'order_id',\n",
       " 'user_id',\n",
       " 'eval_set',\n",
       " 'order_number',\n",
       " 'order_dow',\n",
       " 'order_hour_of_day',\n",
       " 'days_since_prior_order',\n",
       " 'add_to_cart_order',\n",
       " 'reordered']"
      ]
     },
     "execution_count": 13,
     "metadata": {},
     "output_type": "execute_result"
    }
   ],
   "source": [
    "#Check output\n",
    "list(df_ords_prods_merge.columns)"
   ]
  },
  {
   "cell_type": "markdown",
   "id": "f8f3f90f-640f-4c43-bfe7-cd9060518faa",
   "metadata": {},
   "source": [
    "Note: I did not save the orders_products_merge file after organizing by price range. If that column is necessary for the final project, let me know and I will re-add it to the database."
   ]
  },
  {
   "cell_type": "code",
   "execution_count": 22,
   "id": "38ba44ac-ffe1-49f4-8ca9-17125555dc5a",
   "metadata": {},
   "outputs": [],
   "source": [
    "result = []\n",
    "\n",
    "for value in df_ords_prods_merge[\"order_dow\"]:\n",
    "  if value <= 1:\n",
    "    result.append(\"Busiest days\")\n",
    "  elif 3 <= value <= 4:\n",
    "    result.append(\"Least busy days\")\n",
    "  else:\n",
    "    result.append(\"Regularly busy\")"
   ]
  },
  {
   "cell_type": "code",
   "execution_count": 24,
   "id": "8a92442b-ab53-49a5-90e5-f3f8e258999e",
   "metadata": {},
   "outputs": [],
   "source": [
    "#create column for results\n",
    "df_ords_prods_merge['Busiest Days'] = result"
   ]
  },
  {
   "cell_type": "code",
   "execution_count": 26,
   "id": "2efb2326-dff8-4ef8-8231-3b019061b64e",
   "metadata": {},
   "outputs": [
    {
     "data": {
      "text/plain": [
       "Busiest Days\n",
       "Regularly busy     12916111\n",
       "Busiest days       11864412\n",
       "Least busy days     7624336\n",
       "Name: count, dtype: int64"
      ]
     },
     "execution_count": 26,
     "metadata": {},
     "output_type": "execute_result"
    }
   ],
   "source": [
    "#check frequency\n",
    "df_ords_prods_merge['Busiest Days'].value_counts(dropna = False)"
   ]
  },
  {
   "cell_type": "markdown",
   "id": "7be6d254-0df5-40fd-8179-d69dcfa8f7d9",
   "metadata": {},
   "source": [
    "Counts match the expected days. I'm not sure what the question wants me to say re markdown format, except that this colun will take integers as the format."
   ]
  },
  {
   "cell_type": "markdown",
   "id": "6326218a-38d7-4614-9128-06e33b3ee305",
   "metadata": {},
   "source": [
    "05 Find busiest periods of the day"
   ]
  },
  {
   "cell_type": "code",
   "execution_count": 33,
   "id": "9d39031c-0b4a-4338-9c04-f75727df2cac",
   "metadata": {},
   "outputs": [
    {
     "data": {
      "text/plain": [
       "order_hour_of_day\n",
       "10    2761760\n",
       "11    2736140\n",
       "14    2689136\n",
       "15    2662144\n",
       "13    2660954\n",
       "12    2618532\n",
       "16    2535202\n",
       "9     2454203\n",
       "17    2087654\n",
       "8     1718118\n",
       "18    1636502\n",
       "19    1258305\n",
       "20     976156\n",
       "7      891054\n",
       "21     795637\n",
       "22     634225\n",
       "23     402316\n",
       "6      290493\n",
       "0      218769\n",
       "1      115700\n",
       "5       87961\n",
       "2       69375\n",
       "4       53242\n",
       "3       51281\n",
       "Name: count, dtype: int64"
      ]
     },
     "execution_count": 33,
     "metadata": {},
     "output_type": "execute_result"
    }
   ],
   "source": [
    "#Get order counts for times of day\n",
    "df_ords_prods_merge['order_hour_of_day'].value_counts(dropna = False)"
   ]
  },
  {
   "cell_type": "code",
   "execution_count": 35,
   "id": "04034457-2995-445c-bb20-fbf5afeb3ece",
   "metadata": {},
   "outputs": [],
   "source": [
    "#Label upper range\n",
    "df_ords_prods_merge.loc[(df_ords_prods_merge['order_hour_of_day'] <= 17) & (df_ords_prods_merge['order_hour_of_day'] >= 9), 'busiest_period_of_day'] = 'Most orders'"
   ]
  },
  {
   "cell_type": "code",
   "execution_count": 37,
   "id": "7f322109-9da1-4e5c-b4e7-fd01c243ca78",
   "metadata": {},
   "outputs": [],
   "source": [
    "#Label lower range\n",
    "df_ords_prods_merge.loc[df_ords_prods_merge['order_hour_of_day'] <= 6, 'busiest_period_of_day'] = 'Fewest orders'"
   ]
  },
  {
   "cell_type": "code",
   "execution_count": 39,
   "id": "39cbeba0-d962-48a9-a08b-2e91eb1fb56c",
   "metadata": {},
   "outputs": [],
   "source": [
    "#Label middle range\n",
    "df_ords_prods_merge.loc[(df_ords_prods_merge['order_hour_of_day'] <= 8) & (df_ords_prods_merge['order_hour_of_day'] >= 7), 'busiest_period_of_day'] = 'Average orders'"
   ]
  },
  {
   "cell_type": "code",
   "execution_count": 41,
   "id": "fd3f4a96-e73a-45ea-a7dd-95b5adee4f34",
   "metadata": {},
   "outputs": [],
   "source": [
    "#Label rest of middle range\n",
    "df_ords_prods_merge.loc[df_ords_prods_merge['order_hour_of_day'] >= 17, 'busiest_period_of_day'] = 'Average orders'"
   ]
  },
  {
   "cell_type": "code",
   "execution_count": 43,
   "id": "46ddc898-e4c9-47e6-8a42-903c1604b3b6",
   "metadata": {
    "scrolled": true
   },
   "outputs": [
    {
     "data": {
      "text/plain": [
       "busiest_period_of_day\n",
       "Most orders       21118071\n",
       "Average orders    10399967\n",
       "Fewest orders       886821\n",
       "Name: count, dtype: int64"
      ]
     },
     "execution_count": 43,
     "metadata": {},
     "output_type": "execute_result"
    }
   ],
   "source": [
    "#Check value counts\n",
    "df_ords_prods_merge['busiest_period_of_day'].value_counts(dropna = False)"
   ]
  },
  {
   "cell_type": "markdown",
   "id": "fcba134d-fbe8-4451-b836-aeacb265a3c4",
   "metadata": {},
   "source": [
    "06 Export to Pickle"
   ]
  },
  {
   "cell_type": "code",
   "execution_count": 51,
   "id": "22318f05-d384-4300-8f77-5eb25e8b031d",
   "metadata": {},
   "outputs": [],
   "source": [
    "path = r'/Users/Owner/Documents/CareerFoundry/Data Immersion/Achievement 4/01-07-2024 Instacart Basket Analysis'"
   ]
  },
  {
   "cell_type": "code",
   "execution_count": 53,
   "id": "5e0f7297-88b1-40ef-9c5e-11af193f1d13",
   "metadata": {},
   "outputs": [],
   "source": [
    "df_ords_prods_merge.to_pickle(os.path.join(path, '02 Data','Prepared Data', 'orders_products_merge_new.pkl'))"
   ]
  },
  {
   "cell_type": "markdown",
   "id": "8db5dade-999c-4269-b9cb-20c694f1f813",
   "metadata": {},
   "source": [
    "07 Re-check price ranges"
   ]
  },
  {
   "cell_type": "code",
   "execution_count": 11,
   "id": "bb7feab0-8265-4e4b-a83c-e5846c504612",
   "metadata": {},
   "outputs": [],
   "source": [
    "#re-import libraries\n",
    "import pandas as pd\n",
    "import numpy as np\n",
    "import os"
   ]
  },
  {
   "cell_type": "code",
   "execution_count": 15,
   "id": "894e0171-2dd5-4fc4-848d-65d1b83390e8",
   "metadata": {},
   "outputs": [],
   "source": [
    "#import new dataset\n",
    "df_ords_prods_merge=pd.read_pickle(r'/Users/Owner/Documents/CareerFoundry/Data Immersion/Achievement 4/01-07-2024 Instacart Basket Analysis/02 Data/Prepared Data/orders_products_merge_new.pkl')"
   ]
  },
  {
   "cell_type": "code",
   "execution_count": 17,
   "id": "cb3bca29-3117-483c-92db-589e78d9c4b0",
   "metadata": {},
   "outputs": [],
   "source": [
    "#Run price range functions\n",
    "df_ords_prods_merge.loc[df_ords_prods_merge['prices'] > 15, 'price_range_loc'] = 'High-range product'"
   ]
  },
  {
   "cell_type": "code",
   "execution_count": 19,
   "id": "799fd473-b1ed-43cf-a152-c20e83e0423c",
   "metadata": {},
   "outputs": [],
   "source": [
    "df_ords_prods_merge.loc[(df_ords_prods_merge['prices'] <= 15) & (df_ords_prods_merge['prices'] > 5), 'price_range_loc'] = 'Mid-range product' "
   ]
  },
  {
   "cell_type": "code",
   "execution_count": 21,
   "id": "770762b1-2e84-4d0d-9c6f-b45e16b4c184",
   "metadata": {},
   "outputs": [],
   "source": [
    "df_ords_prods_merge.loc[df_ords_prods_merge['prices'] <= 5, 'price_range_loc'] = 'Low-range product'"
   ]
  },
  {
   "cell_type": "code",
   "execution_count": 23,
   "id": "08070719-c8e1-475a-b704-86f0ca833c01",
   "metadata": {
    "scrolled": true
   },
   "outputs": [
    {
     "data": {
      "text/plain": [
       "price_range_loc\n",
       "Mid-range product     21860860\n",
       "Low-range product     10126321\n",
       "High-range product      417678\n",
       "Name: count, dtype: int64"
      ]
     },
     "execution_count": 23,
     "metadata": {},
     "output_type": "execute_result"
    }
   ],
   "source": [
    "df_ords_prods_merge['price_range_loc'].value_counts(dropna = False)"
   ]
  },
  {
   "cell_type": "code",
   "execution_count": 25,
   "id": "e9c12905-aa43-4017-a213-9519ef7c762e",
   "metadata": {},
   "outputs": [],
   "source": [
    "#Re-export to new file\n",
    "path = r'/Users/Owner/Documents/CareerFoundry/Data Immersion/Achievement 4/01-07-2024 Instacart Basket Analysis'"
   ]
  },
  {
   "cell_type": "code",
   "execution_count": 27,
   "id": "afe5d817-d09d-4bdc-9b2d-f1b8eefc285b",
   "metadata": {},
   "outputs": [],
   "source": [
    "df_ords_prods_merge.to_pickle(os.path.join(path, '02 Data','Prepared Data', 'orders_products_merge_new_new.pkl'))"
   ]
  },
  {
   "cell_type": "code",
   "execution_count": 1,
   "id": "03a0a98b-85bb-4bc7-bfd9-595df0baaa8b",
   "metadata": {},
   "outputs": [],
   "source": [
    "#Fix busy periods to not use 17 twice\n",
    "#re-import libraries\n",
    "import pandas as pd\n",
    "import numpy as np\n",
    "import os"
   ]
  },
  {
   "cell_type": "code",
   "execution_count": 3,
   "id": "3bb916ac-821e-4d58-a41d-1d2cfe4a0119",
   "metadata": {},
   "outputs": [],
   "source": [
    "#re-import file\n",
    "df_ords_prods_merge=pd.read_pickle(r'/Users/Owner/Documents/CareerFoundry/Data Immersion/Achievement 4/01-07-2024 Instacart Basket Analysis/02 Data/Prepared Data/orders_products_merge_new_new.pkl')"
   ]
  },
  {
   "cell_type": "code",
   "execution_count": 5,
   "id": "58003915-7f00-4ee0-b490-8249cccbeceb",
   "metadata": {},
   "outputs": [
    {
     "data": {
      "text/plain": [
       "order_hour_of_day\n",
       "10    2761760\n",
       "11    2736140\n",
       "14    2689136\n",
       "15    2662144\n",
       "13    2660954\n",
       "12    2618532\n",
       "16    2535202\n",
       "9     2454203\n",
       "17    2087654\n",
       "8     1718118\n",
       "18    1636502\n",
       "19    1258305\n",
       "20     976156\n",
       "7      891054\n",
       "21     795637\n",
       "22     634225\n",
       "23     402316\n",
       "6      290493\n",
       "0      218769\n",
       "1      115700\n",
       "5       87961\n",
       "2       69375\n",
       "4       53242\n",
       "3       51281\n",
       "Name: count, dtype: int64"
      ]
     },
     "execution_count": 5,
     "metadata": {},
     "output_type": "execute_result"
    }
   ],
   "source": [
    "#Get order counts for times of day\n",
    "df_ords_prods_merge['order_hour_of_day'].value_counts(dropna = False)"
   ]
  },
  {
   "cell_type": "code",
   "execution_count": 9,
   "id": "1683383a-a45f-4e3c-8f92-29e62f9a3b97",
   "metadata": {},
   "outputs": [],
   "source": [
    "#Label upper range\n",
    "df_ords_prods_merge.loc[(df_ords_prods_merge['order_hour_of_day'] <= 17) & (df_ords_prods_merge['order_hour_of_day'] >= 9), 'busiest_period_of_day'] = 'Most orders'"
   ]
  },
  {
   "cell_type": "code",
   "execution_count": 11,
   "id": "a8df0be3-5ebe-40e6-8311-d46568aa0a60",
   "metadata": {},
   "outputs": [],
   "source": [
    "#Label lower range\n",
    "df_ords_prods_merge.loc[df_ords_prods_merge['order_hour_of_day'] <= 6, 'busiest_period_of_day'] = 'Fewest orders'"
   ]
  },
  {
   "cell_type": "code",
   "execution_count": 13,
   "id": "fd70579e-f9fa-497d-9862-d9353d000766",
   "metadata": {},
   "outputs": [],
   "source": [
    "#Label middle range\n",
    "df_ords_prods_merge.loc[(df_ords_prods_merge['order_hour_of_day'] <= 8) & (df_ords_prods_merge['order_hour_of_day'] >= 7), 'busiest_period_of_day'] = 'Average orders'"
   ]
  },
  {
   "cell_type": "code",
   "execution_count": null,
   "id": "1617c836-7b98-4c3b-b3c1-9b7aa58b1228",
   "metadata": {},
   "outputs": [],
   "source": [
    "#Label rest of middle range\n",
    "df_ords_prods_merge.loc[df_ords_prods_merge['order_hour_of_day'] > 17, 'busiest_period_of_day'] = 'Average orders'"
   ]
  }
 ],
 "metadata": {
  "kernelspec": {
   "display_name": "Python 3 (ipykernel)",
   "language": "python",
   "name": "python3"
  },
  "language_info": {
   "codemirror_mode": {
    "name": "ipython",
    "version": 3
   },
   "file_extension": ".py",
   "mimetype": "text/x-python",
   "name": "python",
   "nbconvert_exporter": "python",
   "pygments_lexer": "ipython3",
   "version": "3.12.4"
  }
 },
 "nbformat": 4,
 "nbformat_minor": 5
}
