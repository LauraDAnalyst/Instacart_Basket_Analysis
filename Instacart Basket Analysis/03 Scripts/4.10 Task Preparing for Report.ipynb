{
 "cells": [
  {
   "cell_type": "markdown",
   "id": "641d3ae1-65a3-43f2-8880-295ebbd9ce84",
   "metadata": {},
   "source": [
    "01 Import Libraries and Data\n",
    "\n",
    "02 Remove PII Data\n",
    "\n",
    "03 Segment by Regions\n",
    "\n",
    "04 Remove Low Spenders"
   ]
  },
  {
   "cell_type": "markdown",
   "id": "84cf9c7b-fe91-4ad6-9f4f-3d9690717399",
   "metadata": {},
   "source": [
    "01 Import Libraries and Data"
   ]
  },
  {
   "cell_type": "code",
   "execution_count": null,
   "id": "a8fe2c3d-9e19-41ca-8ab4-47148f3eb6bf",
   "metadata": {},
   "outputs": [],
   "source": [
    "#import libraries\n",
    "\n",
    "import pandas as pd\n",
    "import numpy as np\n",
    "import os\n",
    "import matplotlib.pyplot as plt\n",
    "import seaborn as sns\n",
    "import scipy\n"
   ]
  },
  {
   "cell_type": "code",
   "execution_count": null,
   "id": "a72435e2-0966-4d26-ab46-ffdf669a9833",
   "metadata": {},
   "outputs": [],
   "source": [
    "#import data \n",
    "path = r'/Users/Owner/Documents/CareerFoundry/Data Immersion/Achievement 4/01-07-2024 Instacart Basket Analysis'"
   ]
  },
  {
   "cell_type": "code",
   "execution_count": null,
   "id": "b537cf9b-6b05-4fc5-ade5-490296f558a3",
   "metadata": {},
   "outputs": [],
   "source": [
    "path"
   ]
  },
  {
   "cell_type": "code",
   "execution_count": null,
   "id": "2fd486a8-31fa-4def-a9d6-fbb4c4d775fa",
   "metadata": {},
   "outputs": [],
   "source": [
    "df = pd.read_pickle(os.path.join(path, '02 Data', 'Prepared Data', 'orders_products_all.pkl'))"
   ]
  },
  {
   "cell_type": "code",
   "execution_count": null,
   "id": "732867d0-775d-484a-ae21-6e293cb3b42f",
   "metadata": {},
   "outputs": [],
   "source": [
    "df.info()"
   ]
  },
  {
   "cell_type": "code",
   "execution_count": null,
   "id": "0b069924-a389-4197-99c3-76b7f064ffb8",
   "metadata": {},
   "outputs": [],
   "source": [
    "df.head()"
   ]
  },
  {
   "cell_type": "markdown",
   "id": "20dcac56-d2aa-4562-b629-1f26d8ff6b00",
   "metadata": {},
   "source": [
    "02 Remove PII Data"
   ]
  },
  {
   "cell_type": "code",
   "execution_count": null,
   "id": "d2631652-ba40-4e1e-8d15-7f929ae51f54",
   "metadata": {},
   "outputs": [],
   "source": [
    "#drop first and last name columns\n",
    "df = df.drop(columns = ['First Name','Last Name'])"
   ]
  },
  {
   "cell_type": "code",
   "execution_count": null,
   "id": "568632b5-c1dc-4cd1-bef5-695b2941a6b5",
   "metadata": {},
   "outputs": [],
   "source": [
    "#check output\n",
    "df.head()"
   ]
  },
  {
   "cell_type": "markdown",
   "id": "ed5a0f2c-306a-410d-a2c9-61a033c889c1",
   "metadata": {},
   "source": [
    "03 Segment by Regions"
   ]
  },
  {
   "cell_type": "code",
   "execution_count": null,
   "id": "5dcba2ed-7774-4264-acad-fe38edd3cf70",
   "metadata": {},
   "outputs": [],
   "source": [
    "#define west region\n",
    "west_states = ['California', 'Idaho', 'Montana', 'Wyoming', 'Nevada',\n",
    "               'Utah', 'Colorado', 'Arizona', 'New Mexico', 'Alaska',\n",
    "               'Washington', 'Oregon', 'Hawaii']"
   ]
  },
  {
   "cell_type": "code",
   "execution_count": null,
   "id": "306e4461-4cdc-4e6e-9207-7cc2404b0fb9",
   "metadata": {},
   "outputs": [],
   "source": [
    "#establish region column\n",
    "df.loc[df['State'].isin(west_states), 'region'] = 'West'"
   ]
  },
  {
   "cell_type": "code",
   "execution_count": null,
   "id": "c67477dc-513d-488d-b1d6-d57b5ebf0fa1",
   "metadata": {},
   "outputs": [],
   "source": [
    "#define south region\n",
    "south_states = ['Oklahoma', 'Texas', 'Arkansas', 'Louisiana', 'Kentucky', \n",
    "                'Tennessee', 'Mississippi', 'Alabama', 'Delaware', \n",
    "                'Maryland', 'District of Columbia', 'Virginia',\n",
    "                'West Virginia', 'North Carolina', 'South Carolina', \n",
    "                'Georgia', 'Florida']"
   ]
  },
  {
   "cell_type": "code",
   "execution_count": null,
   "id": "4e3408c3-d9ba-4881-9985-4764771d4996",
   "metadata": {},
   "outputs": [],
   "source": [
    "#put south states in region column\n",
    "df.loc[df['State'].isin(south_states), 'region'] = 'South'"
   ]
  },
  {
   "cell_type": "code",
   "execution_count": null,
   "id": "d2fbe524-c73d-40d6-b619-5c7e06e280fc",
   "metadata": {},
   "outputs": [],
   "source": [
    "#define midwest states\n",
    "midwest_states = ['Wisconsin', 'Michigan', 'Illinois', 'Indiana', 'Ohio', \n",
    "                  'North Dakota', 'South Dakota', 'Nebraska', 'Kansas', \n",
    "                  'Minnesota', 'Iowa', 'Missouri']"
   ]
  },
  {
   "cell_type": "code",
   "execution_count": null,
   "id": "269e9e91-0850-4266-abb5-906a06b88fb4",
   "metadata": {},
   "outputs": [],
   "source": [
    "#add midwest states to region\n",
    "df.loc[df['State'].isin(midwest_states), 'region'] = 'Midwest'"
   ]
  },
  {
   "cell_type": "code",
   "execution_count": null,
   "id": "a5164821-69d0-4103-b6e5-bcb21ef65071",
   "metadata": {},
   "outputs": [],
   "source": [
    "#define northeast states\n",
    "northeast_states = ['New York', 'Pennsylvania', 'New Jersey', 'Maine', \n",
    "                    'New Hampshire', 'Vermont', 'Massachusetts', \n",
    "                    'Rhode Island', 'Connecticut']"
   ]
  },
  {
   "cell_type": "code",
   "execution_count": null,
   "id": "4df1c543-0026-40ef-8500-3629afd569ac",
   "metadata": {},
   "outputs": [],
   "source": [
    "df.loc[df['State'].isin(northeast_states), 'region'] = 'Northeast'"
   ]
  },
  {
   "cell_type": "code",
   "execution_count": null,
   "id": "0152ba4e-da1d-4555-9afc-c95f5872d7d1",
   "metadata": {},
   "outputs": [],
   "source": [
    "#display output\n",
    "df['region'].value_counts (dropna = False)"
   ]
  },
  {
   "cell_type": "code",
   "execution_count": null,
   "id": "e3c6f523-fef4-49a8-989b-491185972fc9",
   "metadata": {},
   "outputs": [],
   "source": [
    "#check output as head\n",
    "df.loc[:,['State', 'region']].head()"
   ]
  },
  {
   "cell_type": "code",
   "execution_count": null,
   "id": "0c800278-e608-4111-a68e-39f5bc177255",
   "metadata": {},
   "outputs": [],
   "source": [
    "#create crosstab\n",
    "crosstab = pd.crosstab(df['spending_flag'], df['region'], dropna = False)"
   ]
  },
  {
   "cell_type": "code",
   "execution_count": null,
   "id": "b37ed1e2-f377-452e-9bf9-f1d4b537d33b",
   "metadata": {},
   "outputs": [],
   "source": [
    "#add to clipboard\n",
    "crosstab.to_clipboard()"
   ]
  },
  {
   "cell_type": "code",
   "execution_count": null,
   "id": "b3773bd1-44e2-4b4e-bf60-64c4b1eff554",
   "metadata": {},
   "outputs": [],
   "source": [
    "print(crosstab)"
   ]
  },
  {
   "cell_type": "markdown",
   "id": "602f158e-931b-4752-91b8-738129e34ec8",
   "metadata": {},
   "source": [
    "Distribution does not show significant differences. Regions with lots of high spenders also have lots of low spenders"
   ]
  },
  {
   "cell_type": "markdown",
   "id": "6ac94da6-d584-4982-94fc-d9e485055413",
   "metadata": {},
   "source": [
    "04 Remove Low Spenders"
   ]
  },
  {
   "cell_type": "code",
   "execution_count": null,
   "id": "5b63ad56-f5c8-40ca-a198-0f0b110587a0",
   "metadata": {},
   "outputs": [],
   "source": [
    "#create activity level flag\n",
    "df.loc[df['max_order'] < 5, 'activity_lev'] = 'Low activity'"
   ]
  },
  {
   "cell_type": "code",
   "execution_count": null,
   "id": "916a53b5-ee9c-49f2-8672-5c6b70769f65",
   "metadata": {},
   "outputs": [],
   "source": [
    "df.loc[df['max_order'] >= 5, 'activity_lev'] = 'High activity'"
   ]
  },
  {
   "cell_type": "code",
   "execution_count": null,
   "id": "10be0964-0033-4936-b763-96b599ca1585",
   "metadata": {},
   "outputs": [],
   "source": [
    "list(df.columns)"
   ]
  },
  {
   "cell_type": "code",
   "execution_count": null,
   "id": "96e404fc-eced-4490-87dd-29ef18484fdd",
   "metadata": {},
   "outputs": [],
   "source": [
    "#check activity lev output\n",
    "df['activity_lev'].value_counts(dropna = False)"
   ]
  },
  {
   "cell_type": "code",
   "execution_count": 59,
   "id": "dbbec098-8809-4bcf-acbc-f03fcf5d65da",
   "metadata": {},
   "outputs": [],
   "source": [
    "#create new dataset without low activity customers\n",
    "df_excluded = df[df['activity_lev'] != 'Low activity']"
   ]
  },
  {
   "cell_type": "code",
   "execution_count": 61,
   "id": "3c3647b4-22a6-43bf-91a7-116734cad331",
   "metadata": {},
   "outputs": [
    {
     "data": {
      "text/html": [
       "<div>\n",
       "<style scoped>\n",
       "    .dataframe tbody tr th:only-of-type {\n",
       "        vertical-align: middle;\n",
       "    }\n",
       "\n",
       "    .dataframe tbody tr th {\n",
       "        vertical-align: top;\n",
       "    }\n",
       "\n",
       "    .dataframe thead th {\n",
       "        text-align: right;\n",
       "    }\n",
       "</style>\n",
       "<table border=\"1\" class=\"dataframe\">\n",
       "  <thead>\n",
       "    <tr style=\"text-align: right;\">\n",
       "      <th></th>\n",
       "      <th>activity_lev</th>\n",
       "    </tr>\n",
       "  </thead>\n",
       "  <tbody>\n",
       "    <tr>\n",
       "      <th>0</th>\n",
       "      <td>High activity</td>\n",
       "    </tr>\n",
       "    <tr>\n",
       "      <th>1</th>\n",
       "      <td>High activity</td>\n",
       "    </tr>\n",
       "    <tr>\n",
       "      <th>2</th>\n",
       "      <td>High activity</td>\n",
       "    </tr>\n",
       "    <tr>\n",
       "      <th>5</th>\n",
       "      <td>High activity</td>\n",
       "    </tr>\n",
       "    <tr>\n",
       "      <th>6</th>\n",
       "      <td>High activity</td>\n",
       "    </tr>\n",
       "  </tbody>\n",
       "</table>\n",
       "</div>"
      ],
      "text/plain": [
       "    activity_lev\n",
       "0  High activity\n",
       "1  High activity\n",
       "2  High activity\n",
       "5  High activity\n",
       "6  High activity"
      ]
     },
     "execution_count": 61,
     "metadata": {},
     "output_type": "execute_result"
    }
   ],
   "source": [
    "#check output\n",
    "df_excluded.loc[:,['activity_lev']].head()"
   ]
  },
  {
   "cell_type": "code",
   "execution_count": 63,
   "id": "21e9a8b8-3da0-4481-bcba-2c4fa906ecd7",
   "metadata": {
    "scrolled": true
   },
   "outputs": [
    {
     "data": {
      "text/html": [
       "<div>\n",
       "<style scoped>\n",
       "    .dataframe tbody tr th:only-of-type {\n",
       "        vertical-align: middle;\n",
       "    }\n",
       "\n",
       "    .dataframe tbody tr th {\n",
       "        vertical-align: top;\n",
       "    }\n",
       "\n",
       "    .dataframe thead th {\n",
       "        text-align: right;\n",
       "    }\n",
       "</style>\n",
       "<table border=\"1\" class=\"dataframe\">\n",
       "  <thead>\n",
       "    <tr style=\"text-align: right;\">\n",
       "      <th></th>\n",
       "      <th>product_id</th>\n",
       "      <th>product_name</th>\n",
       "      <th>aisle_id</th>\n",
       "      <th>department_id</th>\n",
       "      <th>prices</th>\n",
       "      <th>order_id</th>\n",
       "      <th>user_id</th>\n",
       "      <th>eval_set</th>\n",
       "      <th>order_number</th>\n",
       "      <th>order_dow</th>\n",
       "      <th>...</th>\n",
       "      <th>frequency_flag</th>\n",
       "      <th>Gender</th>\n",
       "      <th>State</th>\n",
       "      <th>Age</th>\n",
       "      <th>Date_joined</th>\n",
       "      <th>Number_of_dependents</th>\n",
       "      <th>Marital_status</th>\n",
       "      <th>Income</th>\n",
       "      <th>region</th>\n",
       "      <th>activity_lev</th>\n",
       "    </tr>\n",
       "  </thead>\n",
       "  <tbody>\n",
       "    <tr>\n",
       "      <th>0</th>\n",
       "      <td>1</td>\n",
       "      <td>Chocolate Sandwich Cookies</td>\n",
       "      <td>61</td>\n",
       "      <td>19</td>\n",
       "      <td>5.8</td>\n",
       "      <td>3139998</td>\n",
       "      <td>138</td>\n",
       "      <td>prior</td>\n",
       "      <td>28</td>\n",
       "      <td>6</td>\n",
       "      <td>...</td>\n",
       "      <td>Frequent customer</td>\n",
       "      <td>Male</td>\n",
       "      <td>Minnesota</td>\n",
       "      <td>81</td>\n",
       "      <td>8/1/2019</td>\n",
       "      <td>1</td>\n",
       "      <td>married</td>\n",
       "      <td>49620</td>\n",
       "      <td>Midwest</td>\n",
       "      <td>High activity</td>\n",
       "    </tr>\n",
       "    <tr>\n",
       "      <th>1</th>\n",
       "      <td>1</td>\n",
       "      <td>Chocolate Sandwich Cookies</td>\n",
       "      <td>61</td>\n",
       "      <td>19</td>\n",
       "      <td>5.8</td>\n",
       "      <td>1977647</td>\n",
       "      <td>138</td>\n",
       "      <td>prior</td>\n",
       "      <td>30</td>\n",
       "      <td>6</td>\n",
       "      <td>...</td>\n",
       "      <td>Frequent customer</td>\n",
       "      <td>Male</td>\n",
       "      <td>Minnesota</td>\n",
       "      <td>81</td>\n",
       "      <td>8/1/2019</td>\n",
       "      <td>1</td>\n",
       "      <td>married</td>\n",
       "      <td>49620</td>\n",
       "      <td>Midwest</td>\n",
       "      <td>High activity</td>\n",
       "    </tr>\n",
       "    <tr>\n",
       "      <th>2</th>\n",
       "      <td>1</td>\n",
       "      <td>Chocolate Sandwich Cookies</td>\n",
       "      <td>61</td>\n",
       "      <td>19</td>\n",
       "      <td>5.8</td>\n",
       "      <td>389851</td>\n",
       "      <td>709</td>\n",
       "      <td>prior</td>\n",
       "      <td>2</td>\n",
       "      <td>0</td>\n",
       "      <td>...</td>\n",
       "      <td>Frequent customer</td>\n",
       "      <td>Female</td>\n",
       "      <td>Vermont</td>\n",
       "      <td>66</td>\n",
       "      <td>6/16/2018</td>\n",
       "      <td>2</td>\n",
       "      <td>married</td>\n",
       "      <td>158302</td>\n",
       "      <td>Northeast</td>\n",
       "      <td>High activity</td>\n",
       "    </tr>\n",
       "    <tr>\n",
       "      <th>5</th>\n",
       "      <td>1</td>\n",
       "      <td>Chocolate Sandwich Cookies</td>\n",
       "      <td>61</td>\n",
       "      <td>19</td>\n",
       "      <td>5.8</td>\n",
       "      <td>1701441</td>\n",
       "      <td>777</td>\n",
       "      <td>prior</td>\n",
       "      <td>16</td>\n",
       "      <td>1</td>\n",
       "      <td>...</td>\n",
       "      <td>Regular customer</td>\n",
       "      <td>Female</td>\n",
       "      <td>Hawaii</td>\n",
       "      <td>51</td>\n",
       "      <td>1/4/2019</td>\n",
       "      <td>2</td>\n",
       "      <td>married</td>\n",
       "      <td>57797</td>\n",
       "      <td>West</td>\n",
       "      <td>High activity</td>\n",
       "    </tr>\n",
       "    <tr>\n",
       "      <th>6</th>\n",
       "      <td>1</td>\n",
       "      <td>Chocolate Sandwich Cookies</td>\n",
       "      <td>61</td>\n",
       "      <td>19</td>\n",
       "      <td>5.8</td>\n",
       "      <td>1871483</td>\n",
       "      <td>825</td>\n",
       "      <td>prior</td>\n",
       "      <td>3</td>\n",
       "      <td>2</td>\n",
       "      <td>...</td>\n",
       "      <td>Regular customer</td>\n",
       "      <td>Male</td>\n",
       "      <td>District of Columbia</td>\n",
       "      <td>20</td>\n",
       "      <td>5/8/2019</td>\n",
       "      <td>3</td>\n",
       "      <td>living with parents and siblings</td>\n",
       "      <td>34171</td>\n",
       "      <td>South</td>\n",
       "      <td>High activity</td>\n",
       "    </tr>\n",
       "  </tbody>\n",
       "</table>\n",
       "<p>5 rows × 32 columns</p>\n",
       "</div>"
      ],
      "text/plain": [
       "   product_id                product_name  aisle_id  department_id  prices  \\\n",
       "0           1  Chocolate Sandwich Cookies        61             19     5.8   \n",
       "1           1  Chocolate Sandwich Cookies        61             19     5.8   \n",
       "2           1  Chocolate Sandwich Cookies        61             19     5.8   \n",
       "5           1  Chocolate Sandwich Cookies        61             19     5.8   \n",
       "6           1  Chocolate Sandwich Cookies        61             19     5.8   \n",
       "\n",
       "   order_id  user_id eval_set  order_number  order_dow  ...  \\\n",
       "0   3139998      138    prior            28          6  ...   \n",
       "1   1977647      138    prior            30          6  ...   \n",
       "2    389851      709    prior             2          0  ...   \n",
       "5   1701441      777    prior            16          1  ...   \n",
       "6   1871483      825    prior             3          2  ...   \n",
       "\n",
       "      frequency_flag  Gender                 State  Age Date_joined  \\\n",
       "0  Frequent customer    Male             Minnesota   81    8/1/2019   \n",
       "1  Frequent customer    Male             Minnesota   81    8/1/2019   \n",
       "2  Frequent customer  Female               Vermont   66   6/16/2018   \n",
       "5   Regular customer  Female                Hawaii   51    1/4/2019   \n",
       "6   Regular customer    Male  District of Columbia   20    5/8/2019   \n",
       "\n",
       "  Number_of_dependents                    Marital_status  Income     region  \\\n",
       "0                    1                           married   49620    Midwest   \n",
       "1                    1                           married   49620    Midwest   \n",
       "2                    2                           married  158302  Northeast   \n",
       "5                    2                           married   57797       West   \n",
       "6                    3  living with parents and siblings   34171      South   \n",
       "\n",
       "    activity_lev  \n",
       "0  High activity  \n",
       "1  High activity  \n",
       "2  High activity  \n",
       "5  High activity  \n",
       "6  High activity  \n",
       "\n",
       "[5 rows x 32 columns]"
      ]
     },
     "execution_count": 63,
     "metadata": {},
     "output_type": "execute_result"
    }
   ],
   "source": [
    "df_excluded.head()"
   ]
  },
  {
   "cell_type": "code",
   "execution_count": 65,
   "id": "e9544dc2-2929-4501-9293-8b95ff3ba15b",
   "metadata": {},
   "outputs": [],
   "source": [
    "#export excluded data\n",
    "df_excluded.to_pickle(os.path.join(path, '02 Data','Prepared Data', 'orders_products_excluded.pkl'))"
   ]
  },
  {
   "cell_type": "code",
   "execution_count": null,
   "id": "67c08051-8f36-4023-bc26-c6383f6e511f",
   "metadata": {},
   "outputs": [],
   "source": []
  }
 ],
 "metadata": {
  "kernelspec": {
   "display_name": "Python 3 (ipykernel)",
   "language": "python",
   "name": "python3"
  },
  "language_info": {
   "codemirror_mode": {
    "name": "ipython",
    "version": 3
   },
   "file_extension": ".py",
   "mimetype": "text/x-python",
   "name": "python",
   "nbconvert_exporter": "python",
   "pygments_lexer": "ipython3",
   "version": "3.12.4"
  }
 },
 "nbformat": 4,
 "nbformat_minor": 5
}
